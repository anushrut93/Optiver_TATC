{
 "cells": [
  {
   "cell_type": "code",
   "execution_count": 2,
   "id": "ca2d9525-94e2-410a-9e22-82f983addf5a",
   "metadata": {},
   "outputs": [
    {
     "data": {
      "text/plain": [
       "'/Users/anushrut/Desktop/optiver-trading-at-the-close'"
      ]
     },
     "execution_count": 2,
     "metadata": {},
     "output_type": "execute_result"
    }
   ],
   "source": [
    "import os\n",
    "os.getcwd()"
   ]
  },
  {
   "cell_type": "code",
   "execution_count": 4,
   "id": "188db29a-5a1b-4827-ba22-699843e5d658",
   "metadata": {},
   "outputs": [],
   "source": [
    "import pandas as pd\n",
    "\n",
    "df = pd.read_csv('train.csv')"
   ]
  },
  {
   "cell_type": "code",
   "execution_count": 12,
   "id": "907f6a0e-407f-4c65-acd2-327d66df0619",
   "metadata": {},
   "outputs": [
    {
     "data": {
      "text/plain": [
       "196424.25"
      ]
     },
     "execution_count": 12,
     "metadata": {},
     "output_type": "execute_result"
    }
   ],
   "source": [
    "df.shape[0]/640*24"
   ]
  },
  {
   "cell_type": "code",
   "execution_count": 30,
   "id": "f2a34188-7824-459d-8f66-9428d8b6d6c1",
   "metadata": {},
   "outputs": [],
   "source": [
    "df_partial = df[:df.shape[0]//640*23]"
   ]
  },
  {
   "cell_type": "code",
   "execution_count": 32,
   "id": "8e0a2f83-2b09-4f78-af19-54aaa6351965",
   "metadata": {},
   "outputs": [],
   "source": [
    "df_partial.to_csv('train_partial.csv')"
   ]
  }
 ],
 "metadata": {
  "kernelspec": {
   "display_name": "Python [conda env:base] *",
   "language": "python",
   "name": "conda-base-py"
  },
  "language_info": {
   "codemirror_mode": {
    "name": "ipython",
    "version": 3
   },
   "file_extension": ".py",
   "mimetype": "text/x-python",
   "name": "python",
   "nbconvert_exporter": "python",
   "pygments_lexer": "ipython3",
   "version": "3.12.7"
  }
 },
 "nbformat": 4,
 "nbformat_minor": 5
}
